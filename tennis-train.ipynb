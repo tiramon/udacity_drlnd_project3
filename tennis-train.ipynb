{
 "cells": [
  {
   "cell_type": "markdown",
   "metadata": {},
   "source": [
    "# Collaboration and Competition\n",
    "\n",
    "---\n",
    "\n",
    "In this notebook, you will learn how to use the Unity ML-Agents environment for the third project of the [Deep Reinforcement Learning Nanodegree](https://www.udacity.com/course/deep-reinforcement-learning-nanodegree--nd893) program.\n",
    "\n",
    "### 1. Start the Environment\n",
    "\n",
    "We begin by importing the necessary packages.  If the code cell below returns an error, please revisit the project instructions to double-check that you have installed [Unity ML-Agents](https://github.com/Unity-Technologies/ml-agents/blob/master/docs/Installation.md) and [NumPy](http://www.numpy.org/)."
   ]
  },
  {
   "cell_type": "code",
   "execution_count": 1,
   "metadata": {},
   "outputs": [],
   "source": [
    "from unityagents import UnityEnvironment\n",
    "import numpy as np\n",
    "\n",
    "import torch\n",
    "from collections import deque\n",
    "import datetime;\n",
    "\n",
    "import json\n",
    "config = json.load(open('config.json'))\n",
    "train = False"
   ]
  },
  {
   "cell_type": "markdown",
   "metadata": {},
   "source": [
    "Next, we will start the environment!  **_Before running the code cell below_**, change the `file_name` parameter to match the location of the Unity environment that you downloaded.\n",
    "\n",
    "- **Mac**: `\"path/to/Tennis.app\"`\n",
    "- **Windows** (x86): `\"path/to/Tennis_Windows_x86/Tennis.exe\"`\n",
    "- **Windows** (x86_64): `\"path/to/Tennis_Windows_x86_64/Tennis.exe\"`\n",
    "- **Linux** (x86): `\"path/to/Tennis_Linux/Tennis.x86\"`\n",
    "- **Linux** (x86_64): `\"path/to/Tennis_Linux/Tennis.x86_64\"`\n",
    "- **Linux** (x86, headless): `\"path/to/Tennis_Linux_NoVis/Tennis.x86\"`\n",
    "- **Linux** (x86_64, headless): `\"path/to/Tennis_Linux_NoVis/Tennis.x86_64\"`\n",
    "\n",
    "For instance, if you are using a Mac, then you downloaded `Tennis.app`.  If this file is in the same folder as the notebook, then the line below should appear as follows:\n",
    "```\n",
    "env = UnityEnvironment(file_name=\"Tennis.app\")\n",
    "```"
   ]
  },
  {
   "cell_type": "code",
   "execution_count": 2,
   "metadata": {},
   "outputs": [
    {
     "name": "stderr",
     "output_type": "stream",
     "text": [
      "INFO:unityagents:\n",
      "'Academy' started successfully!\n",
      "Unity Academy name: Academy\n",
      "        Number of Brains: 1\n",
      "        Number of External Brains : 1\n",
      "        Lesson number : 0\n",
      "        Reset Parameters :\n",
      "\t\t\n",
      "Unity brain name: TennisBrain\n",
      "        Number of Visual Observations (per agent): 0\n",
      "        Vector Observation space type: continuous\n",
      "        Vector Observation space size (per agent): 8\n",
      "        Number of stacked Vector Observation: 3\n",
      "        Vector Action space type: continuous\n",
      "        Vector Action space size (per agent): 2\n",
      "        Vector Action descriptions: , \n"
     ]
    }
   ],
   "source": [
    "env = UnityEnvironment(file_name=\"Tennis_Windows_x86_64/Tennis.exe\",no_graphics=train, seed = config['SEED']['environment'])"
   ]
  },
  {
   "cell_type": "markdown",
   "metadata": {},
   "source": [
    "Environments contain **_brains_** which are responsible for deciding the actions of their associated agents. Here we check for the first brain available, and set it as the default brain we will be controlling from Python."
   ]
  },
  {
   "cell_type": "code",
   "execution_count": 3,
   "metadata": {},
   "outputs": [],
   "source": [
    "# get the default brain\n",
    "brain_name = env.brain_names[0]\n",
    "brain = env.brains[brain_name]"
   ]
  },
  {
   "cell_type": "markdown",
   "metadata": {},
   "source": [
    "### 2. Examine the State and Action Spaces\n",
    "\n",
    "In this environment, two agents control rackets to bounce a ball over a net. If an agent hits the ball over the net, it receives a reward of +0.1.  If an agent lets a ball hit the ground or hits the ball out of bounds, it receives a reward of -0.01.  Thus, the goal of each agent is to keep the ball in play.\n",
    "\n",
    "The observation space consists of 8 variables corresponding to the position and velocity of the ball and racket. Two continuous actions are available, corresponding to movement toward (or away from) the net, and jumping. \n",
    "\n",
    "Run the code cell below to print some information about the environment."
   ]
  },
  {
   "cell_type": "code",
   "execution_count": 4,
   "metadata": {},
   "outputs": [
    {
     "name": "stdout",
     "output_type": "stream",
     "text": [
      "Number of agents: 2\n",
      "Size of each action: 2\n",
      "There are 2 agents. Each observes a state with length: 24\n",
      "The state for the first agent looks like: [ 0.          0.          0.          0.          0.          0.\n",
      "  0.          0.          0.          0.          0.          0.\n",
      "  0.          0.          0.          0.         -7.8029089  -1.5\n",
      " -0.          0.         -6.53731155  6.         -0.          0.        ]\n"
     ]
    }
   ],
   "source": [
    "# reset the environment\n",
    "env_info = env.reset(train_mode=train)[brain_name]\n",
    "\n",
    "# number of agents \n",
    "num_agents = len(env_info.agents)\n",
    "print('Number of agents:', num_agents)\n",
    "\n",
    "# size of each action\n",
    "action_size = brain.vector_action_space_size\n",
    "print('Size of each action:', action_size)\n",
    "\n",
    "# examine the state space \n",
    "states = env_info.vector_observations\n",
    "state_size = states.shape[1]\n",
    "print('There are {} agents. Each observes a state with length: {}'.format(states.shape[0], state_size))\n",
    "print('The state for the first agent looks like:', states[0])"
   ]
  },
  {
   "cell_type": "code",
   "execution_count": 5,
   "metadata": {},
   "outputs": [
    {
     "name": "stdout",
     "output_type": "stream",
     "text": [
      "{\n",
      "    \"TAU\": 0.001,\n",
      "    \"LR_CRITIC\": 0.0001,\n",
      "    \"LR_ACTOR\": 0.0001,\n",
      "    \"GAMMA\": 0.99,\n",
      "    \"BUFFER_SIZE\": 400000,\n",
      "    \"BATCH_SIZE\": 256,\n",
      "    \"WEIGHT_DECAY\": 0.0,\n",
      "    \"noise\": {\n",
      "        \"sigma\": 0.01,\n",
      "        \"mu\": 0.0,\n",
      "        \"theta\": 0.15\n",
      "    },\n",
      "    \"SEED\": {\n",
      "        \"environment\": 10,\n",
      "        \"agent\": 42\n",
      "    },\n",
      "    \"model\": {\n",
      "        \"actor\": [\n",
      "            {\n",
      "                \"type\": \"Linear\",\n",
      "                \"size\": 8,\n",
      "                \"activation\": \"RELU\"\n",
      "            },\n",
      "            {\n",
      "                \"type\": \"batchnormalization\"\n",
      "            },\n",
      "            {\n",
      "                \"type\": \"Linear\",\n",
      "                \"size\": 64,\n",
      "                \"activation\": \"RELU\"\n",
      "            },\n",
      "            {\n",
      "                \"type\": \"Linear\",\n",
      "                \"size\": 64,\n",
      "                \"activation\": \"RELU\"\n",
      "            },\n",
      "            {\n",
      "                \"type\": \"Linear\",\n",
      "                \"size\": 4\n",
      "            }\n",
      "        ],\n",
      "        \"critic\": [\n",
      "            {\n",
      "                \"type\": \"Linear\",\n",
      "                \"size\": 8,\n",
      "                \"activation\": \"RELU\"\n",
      "            },\n",
      "            {\n",
      "                \"type\": \"batchnormalization\"\n",
      "            },\n",
      "            {\n",
      "                \"type\": \"Linear\",\n",
      "                \"size\": 64,\n",
      "                \"activation\": \"RELU\"\n",
      "            },\n",
      "            {\n",
      "                \"type\": \"Linear\",\n",
      "                \"size\": 64,\n",
      "                \"activation\": \"RELU\"\n",
      "            },\n",
      "            {\n",
      "                \"type\": \"dropout\",\n",
      "                \"probability\": 0.2\n",
      "            },\n",
      "            {\n",
      "                \"type\": \"Linear\",\n",
      "                \"size\": 1\n",
      "            }\n",
      "        ]\n",
      "    }\n",
      "}\n",
      "Actor(\n",
      "  (fc1): Linear(in_features=24, out_features=256, bias=True)\n",
      "  (batch): BatchNorm1d(256, eps=1e-05, momentum=0.1, affine=True, track_running_stats=True)\n",
      "  (fc2): Linear(in_features=256, out_features=128, bias=True)\n",
      "  (fc3): Linear(in_features=128, out_features=2, bias=True)\n",
      ")\n",
      "Critic(\n",
      "  (fc1): Linear(in_features=24, out_features=256, bias=True)\n",
      "  (batch): BatchNorm1d(256, eps=1e-05, momentum=0.1, affine=True, track_running_stats=True)\n",
      "  (fc2): Linear(in_features=258, out_features=128, bias=True)\n",
      "  (dropout): Dropout(p=0.001)\n",
      "  (fc3): Linear(in_features=128, out_features=1, bias=True)\n",
      ")\n"
     ]
    }
   ],
   "source": [
    "from agent_ddpg import Agent\n",
    "agents = []\n",
    "print(json.dumps(config, indent=4))\n",
    "agents.append(Agent(state_size, action_size, config['SEED']['agent']))\n",
    "agents.append(Agent(state_size, action_size, config['SEED']['agent']))\n",
    "print(agents[0].actor_local)\n",
    "print(agents[0].critic_local)"
   ]
  },
  {
   "cell_type": "code",
   "execution_count": 6,
   "metadata": {},
   "outputs": [
    {
     "ename": "ValueError",
     "evalue": "Format specifier missing precision",
     "output_type": "error",
     "traceback": [
      "\u001b[1;31m---------------------------------------------------------------------------\u001b[0m",
      "\u001b[1;31mValueError\u001b[0m                                Traceback (most recent call last)",
      "\u001b[1;32m<ipython-input-6-75e4e98aed9e>\u001b[0m in \u001b[0;36m<module>\u001b[1;34m\u001b[0m\n\u001b[0;32m     42\u001b[0m     \u001b[0mgame_length_window\u001b[0m\u001b[1;33m.\u001b[0m\u001b[0mappend\u001b[0m\u001b[1;33m(\u001b[0m\u001b[0mcount\u001b[0m\u001b[1;33m)\u001b[0m\u001b[1;33m\u001b[0m\u001b[1;33m\u001b[0m\u001b[0m\n\u001b[0;32m     43\u001b[0m     \u001b[0mavg_game_length\u001b[0m\u001b[1;33m.\u001b[0m\u001b[0mappend\u001b[0m\u001b[1;33m(\u001b[0m\u001b[0mnp\u001b[0m\u001b[1;33m.\u001b[0m\u001b[0mmean\u001b[0m\u001b[1;33m(\u001b[0m\u001b[0mgame_length_window\u001b[0m\u001b[1;33m)\u001b[0m\u001b[1;33m)\u001b[0m\u001b[1;33m\u001b[0m\u001b[1;33m\u001b[0m\u001b[0m\n\u001b[1;32m---> 44\u001b[1;33m     \u001b[0mprint\u001b[0m\u001b[1;33m(\u001b[0m\u001b[1;34m'Score (max over agents) from episode\\t{}:\\t{:.f}\\tAverage Score:\\t{:.4f}\\ttime:\\t{:s}\\tactions:\\t{}'\u001b[0m\u001b[1;33m.\u001b[0m\u001b[0mformat\u001b[0m\u001b[1;33m(\u001b[0m\u001b[0mepisode\u001b[0m\u001b[1;33m,\u001b[0m \u001b[0mep_score\u001b[0m\u001b[1;33m,\u001b[0m \u001b[0mavg_score\u001b[0m\u001b[1;33m,\u001b[0m \u001b[0mstr\u001b[0m\u001b[1;33m(\u001b[0m\u001b[0mtook\u001b[0m\u001b[1;33m)\u001b[0m\u001b[1;33m,\u001b[0m \u001b[0mcount\u001b[0m\u001b[1;33m)\u001b[0m\u001b[1;33m)\u001b[0m\u001b[1;33m\u001b[0m\u001b[1;33m\u001b[0m\u001b[0m\n\u001b[0m\u001b[0;32m     45\u001b[0m     \u001b[1;32mif\u001b[0m \u001b[1;33m(\u001b[0m\u001b[0msolved_episode\u001b[0m \u001b[1;33m<\u001b[0m \u001b[1;36m0\u001b[0m \u001b[1;32mand\u001b[0m \u001b[0mavg_score\u001b[0m \u001b[1;33m>=\u001b[0m \u001b[0mexpected_score\u001b[0m\u001b[1;33m)\u001b[0m\u001b[1;33m:\u001b[0m\u001b[1;33m\u001b[0m\u001b[1;33m\u001b[0m\u001b[0m\n\u001b[0;32m     46\u001b[0m         \u001b[0mprint\u001b[0m\u001b[1;33m(\u001b[0m\u001b[1;34m'Solved in episode '\u001b[0m\u001b[1;33m+\u001b[0m \u001b[0mepisode\u001b[0m\u001b[1;33m)\u001b[0m\u001b[1;33m\u001b[0m\u001b[1;33m\u001b[0m\u001b[0m\n",
      "\u001b[1;31mValueError\u001b[0m: Format specifier missing precision"
     ]
    }
   ],
   "source": [
    "episodes = 1500\n",
    "expected_score = 0.5\n",
    "scores = []\n",
    "scores_window = deque(maxlen=100)\n",
    "avg_scores = []\n",
    "solved_episode = -1\n",
    "game_length_window =deque(maxlen=100)\n",
    "game_length = []\n",
    "avg_game_length = []\n",
    "network_loss = []\n",
    "for episode in range(1, episodes+1):                                    # play game for n episodes\n",
    "    start = datetime.datetime.now()\n",
    "    env_info = env.reset(train_mode=True)[brain_name]     # reset the environment    \n",
    "    states = env_info.vector_observations                  # get the current state (for each agent)\n",
    "    ep_scores = np.zeros(num_agents)                          # initialize the score (for each agent)\n",
    "    count = 0\n",
    "    [agent.reset() for agent in agents]\n",
    "    while True:        \n",
    "        count += 1\n",
    "        actions = [agents[i].act(states[i], True) for i in range(num_agents)] # select an action (for each agent)\n",
    "        actions = np.clip(actions, -1, 1)                  # all actions between -1 and 1\n",
    "        env_info = env.step(actions)[brain_name]           # send all actions to tne environment\n",
    "        next_states = env_info.vector_observations         # get next state (for each agent)\n",
    "        rewards = env_info.rewards                         # get reward (for each agent)\n",
    "        dones = env_info.local_done                        # see if episode finished\n",
    "        ep_scores += env_info.rewards                         # update the score (for each agent)\n",
    "        \n",
    "        [agents[i].step(states[i], actions[i], rewards[i], next_states[i], dones[i]) for i in range(num_agents)]\n",
    "        \n",
    "        [network_loss.append(agent.step_learn()) for agent in agents]\n",
    "        \n",
    "        states = next_states                               # roll over states to next time step\n",
    "        if np.any(dones):                                  # exit loop if episode finished\n",
    "            break\n",
    "    #print(ep_scores)\n",
    "    \n",
    "    took = datetime.datetime.now() -start    \n",
    "    ep_score = np.max(ep_scores)\n",
    "    scores.append(ep_score)\n",
    "    scores_window.append(ep_score)\n",
    "    avg_score = np.mean(scores_window)\n",
    "    avg_scores.append(avg_score)    \n",
    "    game_length.append(count)\n",
    "    game_length_window.append(count)\n",
    "    avg_game_length.append(np.mean(game_length_window))\n",
    "    print('Score (max over agents) from episode\\t{}:\\t{:.5f}\\tAverage Score:\\t{:.5f}\\ttime:\\t{:s}\\tactions:\\t{}'.format(episode, ep_score, avg_score, str(took), count))\n",
    "    if (solved_episode < 0 and avg_score >= expected_score):\n",
    "        print('Solved in episode '+ episode)\n",
    "        solved_episode = episode\n",
    "        for i in range(num_agents):\n",
    "            torch.save(agent.actor_local.state_dict(), 'solved_{:d}_actor_local.pth'.format(episode))\n",
    "            torch.save(agent.critic_local.state_dict(), 'solved_{:d}_critic_local.pth'.format(episode))\n",
    "\n",
    "print('Solved in episode {}'.format(solved_episode))\n",
    "for i in range(num_agents):\n",
    "    torch.save(agents[i].actor_local.state_dict(), 'end_actor{}_local.pth'.format(i))\n",
    "    torch.save(agents[i].critic_local.state_dict(), 'end_critic{}_local.pth'.format(i))"
   ]
  },
  {
   "cell_type": "markdown",
   "metadata": {},
   "source": [
    "When finished, you can close the environment."
   ]
  },
  {
   "cell_type": "code",
   "execution_count": null,
   "metadata": {},
   "outputs": [],
   "source": [
    "env.close()"
   ]
  },
  {
   "cell_type": "code",
   "execution_count": null,
   "metadata": {},
   "outputs": [],
   "source": [
    "import matplotlib.pyplot as plt\n",
    "\n",
    "# plot the scores\n",
    "fig = plt.figure()\n",
    "ax = fig.add_subplot(111)\n",
    "plt.plot(np.arange(len(scores)), scores)\n",
    "plt.plot(np.arange(len(avg_scores)), avg_scores)\n",
    "#plt.plot(np.arange(len(scores)), expected_score*np.ones(len(scores)))\n",
    "plt.xlabel('Episode number')\n",
    "plt.ylabel('Score')\n",
    "plt.show()\n",
    "plt.savefig('graph_trained_{:d}_episodes.png'.format(len(scores)))"
   ]
  },
  {
   "cell_type": "code",
   "execution_count": 7,
   "metadata": {},
   "outputs": [],
   "source": [
    "fig = plt.figure()\n",
    "ax = fig.add_subplot(111)\n",
    "plt.plot(np.arange(len(game_length)), game_length)\n",
    "plt.plot(np.arange(len(avg_game_length)), avg_game_length)\n",
    "#plt.plot(np.arange(len(scores)), expected_score*np.ones(len(scores)))\n",
    "plt.xlabel('Episode number')\n",
    "plt.ylabel('Turns')\n",
    "plt.show()\n",
    "plt.savefig('graph_gamelength_{:d}_episodes.png'.format(len(game_length)))"
   ]
  },
  {
   "cell_type": "code",
   "execution_count": 10,
   "metadata": {},
   "outputs": [
    {
     "data": {
      "image/png": "[encoded data removed]",
      "text/plain": [
       "<Figure size 432x288 with 1 Axes>"
      ]
     },
     "metadata": {
      "needs_background": "light"
     },
     "output_type": "display_data"
    },
    {
     "data": {
      "text/plain": [
       "<Figure size 432x288 with 0 Axes>"
      ]
     },
     "metadata": {},
     "output_type": "display_data"
    }
   ],
   "source": [
    "fig = plt.figure()\n",
    "ax = fig.add_subplot(111)\n",
    "plt.plot(np.arange(len(network_loss)), network_loss)\n",
    "#plt.plot(np.arange(len(scores)), expected_score*np.ones(len(scores)))\n",
    "plt.xlabel('Episode number')\n",
    "plt.ylabel('Loss')\n",
    "plt.show()\n",
    "plt.savefig('graph_loss_{:d}_episodes.png'.format(len(network_loss)))"
   ]
  },
  {
   "cell_type": "code",
   "execution_count": null,
   "metadata": {},
   "outputs": [],
   "source": []
  }
 ],
 "metadata": {
  "kernelspec": {
   "display_name": "drlnd2",
   "language": "python",
   "name": "drlnd2"
  },
  "language_info": {
   "codemirror_mode": {
    "name": "ipython",
    "version": 3
   },
   "file_extension": ".py",
   "mimetype": "text/x-python",
   "name": "python",
   "nbconvert_exporter": "python",
   "pygments_lexer": "ipython3",
   "version": "3.6.10"
  }
 },
 "nbformat": 4,
 "nbformat_minor": 4
}
